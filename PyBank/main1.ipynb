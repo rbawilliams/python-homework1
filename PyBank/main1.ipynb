{
 "cells": [
  {
   "cell_type": "code",
   "execution_count": 1,
   "id": "c7d46799-7071-4d64-8927-ce8447ebcfdc",
   "metadata": {},
   "outputs": [],
   "source": [
    "# Import modules \n",
    "import csv"
   ]
  },
  {
   "cell_type": "code",
   "execution_count": 11,
   "id": "82f7d52e-6db4-4a82-897f-a483428feeb8",
   "metadata": {},
   "outputs": [],
   "source": [
    "# Import path\n",
    "budget_data_csv = (r'C:\\Users\\romai\\OneDrive\\Documents\\Desktop\\FinTech 2022\\Starter_Code\\Instructions\\PyBank\\Resources\\budget_data.csv')"
   ]
  },
  {
   "cell_type": "code",
   "execution_count": 10,
   "id": "e002c452-54d6-463d-a400-394abb3174e6",
   "metadata": {},
   "outputs": [],
   "source": [
    "# Set output for text file \n",
    "text_path = \"output1.txt\""
   ]
  },
  {
   "cell_type": "code",
   "execution_count": 12,
   "id": "29484f1c-817b-40cc-ad9d-e42ca2f37453",
   "metadata": {},
   "outputs": [],
   "source": [
    "# Set Variables\n",
    "total_months = 0\n",
    "total_revenue = 0\n",
    "revenue = []\n",
    "previous_revenue = 0\n",
    "month_of_change = []\n",
    "revenue_change = 0\n",
    "greatest_decrease = [\"\", 9999999]\n",
    "greatest_increase = [\"\", 0]\n",
    "revenue_change_list = []\n",
    "revenue_average = 0\n"
   ]
  },
  {
   "cell_type": "code",
   "execution_count": 14,
   "id": "3533d184-692d-47ea-b829-dd553be01f83",
   "metadata": {},
   "outputs": [],
   "source": [
    "# Open the csv file \n",
    "with open('budget_data.csv') as csvfile:\n",
    "    csvreader = csv.DictReader(csvfile)\n",
    "    #Loop through to find total months\n",
    "    for row in csvreader:\n",
    "\n",
    "        #Count the total of months\n",
    "        total_months += 1\n",
    "\n",
    "        #Calculate the total revenue over the entire period\n",
    "        total_revenue = total_revenue + int(row[\"Profit/Losses\"])\n",
    "\n",
    "        #Calculate the average change in revenue between months over the entire period\n",
    "        revenue_change = float(row[\"Profit/Losses\"])- previous_revenue\n",
    "        previous_revenue = float(row[\"Profit/Losses\"])\n",
    "        revenue_change_list = revenue_change_list + [revenue_change]\n",
    "        month_of_change = [month_of_change] + [row[\"Date\"]]\n",
    "       \n",
    "\n",
    "        #The greatest increase in revenue (date and amount) over the entire period\n",
    "        if revenue_change>greatest_increase[1]:\n",
    "            greatest_increase[1]= revenue_change\n",
    "            greatest_increase[0] = row['Date']\n",
    "\n",
    "        #The greatest decrease in revenue (date and amount) over the entire period\n",
    "        if revenue_change<greatest_decrease[1]:\n",
    "            greatest_decrease[1]= revenue_change\n",
    "            greatest_decrease[0] = row['Date']\n",
    "    revenue_average = sum(revenue_change_list)/len(revenue_change_list)\n",
    "  "
   ]
  },
  {
   "cell_type": "code",
   "execution_count": 15,
   "id": "4c3fa918-3066-4098-9cb9-d6df5c5f9dfc",
   "metadata": {},
   "outputs": [],
   "source": [
    "#write changes to csv\n",
    "with open(text_path, 'w') as file:\n",
    "    file.write(\"Financial Analysis\\n\")\n",
    "    file.write(\"---------------------\\n\")\n",
    "    file.write(\"Total Months: %d\\n\" % total_months)\n",
    "    file.write(\"Total Revenue: $%d\\n\" % total_revenue)\n",
    "    file.write(\"Average Revenue Change $%d\\n\" % revenue_average)\n",
    "    file.write(\"Greatest Increase in Revenue: %s ($%s)\\n\" % (greatest_increase[0], greatest_increase[1]))\n",
    "    file.write(\"Greatest Decrease in Revenue: %s ($%s)\\n\" % (greatest_decrease[0], greatest_decrease[1]))"
   ]
  },
  {
   "cell_type": "code",
   "execution_count": null,
   "id": "ba570a7a-f894-46de-b466-56abd4db819a",
   "metadata": {},
   "outputs": [],
   "source": []
  }
 ],
 "metadata": {
  "kernelspec": {
   "display_name": "Python 3 (ipykernel)",
   "language": "python",
   "name": "python3"
  },
  "language_info": {
   "codemirror_mode": {
    "name": "ipython",
    "version": 3
   },
   "file_extension": ".py",
   "mimetype": "text/x-python",
   "name": "python",
   "nbconvert_exporter": "python",
   "pygments_lexer": "ipython3",
   "version": "3.9.13"
  }
 },
 "nbformat": 4,
 "nbformat_minor": 5
}
