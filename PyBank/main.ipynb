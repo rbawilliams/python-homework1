{
 "cells": [
  {
   "cell_type": "code",
   "execution_count": 82,
   "id": "db88e15a-d982-45bd-9472-34c5329bb543",
   "metadata": {},
   "outputs": [],
   "source": [
    "#Import modules\n",
    "import csv"
   ]
  },
  {
   "cell_type": "code",
   "execution_count": 76,
   "id": "40c447df-b9a9-4a25-bfb8-4240e6d6444a",
   "metadata": {},
   "outputs": [],
   "source": [
    "# Set Output of Text file \n",
    "text_path = \"output.txt\""
   ]
  },
  {
   "cell_type": "code",
   "execution_count": 80,
   "id": "f30afd6f-a614-4207-a170-77154f40facc",
   "metadata": {},
   "outputs": [
    {
     "name": "stdout",
     "output_type": "stream",
     "text": [
      "        Date  Profit/Losses\n",
      "0   Jan-2010         867884\n",
      "1   Feb-2010         984655\n",
      "2   Mar-2010         322013\n",
      "3   Apr-2010         -69417\n",
      "4   May-2010         310503\n",
      "..       ...            ...\n",
      "81  Oct-2016         102685\n",
      "82  Nov-2016         795914\n",
      "83  Dec-2016          60988\n",
      "84  Jan-2017         138230\n",
      "85  Feb-2017         671099\n",
      "\n",
      "[86 rows x 2 columns]\n"
     ]
    }
   ],
   "source": [
    "#Import path\n",
    "df=pd.read_csv(r'C:\\Users\\romai\\OneDrive\\Documents\\Desktop\\FinTech 2022\\Starter_Code\\Instructions\\PyBank\\Resources\\budget_data.csv')\n",
    "print(df)"
   ]
  },
  {
   "cell_type": "code",
   "execution_count": 83,
   "id": "c86f809e-9901-4e08-a36d-14bca4ba7942",
   "metadata": {},
   "outputs": [],
   "source": [
    "#Set variables\n",
    "total_months = 0\n",
    "total_revenue = 0\n",
    "revenue = []\n",
    "previous_revenue = 0\n",
    "month_of_change = []\n",
    "revenue_change = 0\n",
    "greatest_decrease = [\"\", 9999999]\n",
    "greatest_increase = [\"\", 0]\n",
    "revenue_change_list = []\n",
    "revenue_average = 0"
   ]
  },
  {
   "cell_type": "code",
   "execution_count": 84,
   "id": "81047461-7c48-48b4-8919-0bbe873c4c8b",
   "metadata": {},
   "outputs": [],
   "source": [
    "#open the csv file\n",
    "with open('budget_data.csv') as csvfile:  \n",
    "    csvreader = csv.DictReader(csvfile)"
   ]
  },
  {
   "cell_type": "code",
   "execution_count": 115,
   "id": "df740f39-ac4b-4e3d-b94e-ef320cf9a13c",
   "metadata": {},
   "outputs": [],
   "source": [
    "#open the csv file\n",
    "with open('budget_data.csv') as csvfile:  \n",
    "    csvreader = csv.DictReader(csvfile)  \n",
    "    \n",
    "    #Loop through to find total months\n",
    "    for row in csvreader:\n",
    "\n",
    "        #Count the total of months\n",
    "        total_months += 1\n",
    "\n",
    "        #Calculate the total revenue over the entire period\n",
    "        total_revenue = total_revenue + int(row[\"Profit/Losses\"])\n",
    "\n",
    "        #Calculate the average change in revenue between months over the entire period\n",
    "        revenue_change = float(row[\"Profit/Losses\"])- previous_revenue\n",
    "        previous_revenue = float(row[\"Profit/Losses\"])\n",
    "        revenue_change_list = revenue_change_list + [revenue_change]\n",
    "        month_of_change = [month_of_change] + [row[\"Date\"]]\n",
    "       \n",
    "\n",
    "        #The greatest increase in revenue (date and amount) over the entire period\n",
    "        if revenue_change>greatest_increase[1]:\n",
    "            greatest_increase[1]= revenue_change\n",
    "            greatest_increase[0] = row['Date']\n",
    "\n",
    "        #The greatest decrease in revenue (date and amount) over the entire period\n",
    "        if revenue_change<greatest_decrease[1]:\n",
    "            greatest_decrease[1]= revenue_change\n",
    "            greatest_decrease[0] = row['Date']\n",
    "    revenue_average = sum(revenue_change_list)/len(revenue_change_list)\n"
   ]
  },
  {
   "cell_type": "code",
   "execution_count": 116,
   "id": "82578341-ac56-4f01-bc0b-eb37af3362ef",
   "metadata": {},
   "outputs": [],
   "source": [
    "#write changes to csv\n",
    "\n",
    "with open(text_path, 'w') as file:\n",
    "    file.write(\"Financial Analysis\\n\")\n",
    "    file.write(\"---------------------\\n\")\n",
    "    file.write(\"Total Months: %d\\n\" % total_months)\n",
    "    file.write(\"Total Revenue: $%d\\n\" % total_revenue)\n",
    "    file.write(\"Average Revenue Change $%d\\n\" % revenue_average)\n",
    "    file.write(\"Greatest Increase in Revenue: %s ($%s)\\n\" % (greatest_increase[0], greatest_increase[1]))\n",
    "    file.write(\"Greatest Decrease in Revenue: %s ($%s)\\n\" % (greatest_decrease[0], greatest_decrease[1]))"
   ]
  },
  {
   "cell_type": "code",
   "execution_count": null,
   "id": "724b88b7-04bb-4dbe-b02c-3305373047a0",
   "metadata": {},
   "outputs": [],
   "source": []
  }
 ],
 "metadata": {
  "kernelspec": {
   "display_name": "Python 3 (ipykernel)",
   "language": "python",
   "name": "python3"
  },
  "language_info": {
   "codemirror_mode": {
    "name": "ipython",
    "version": 3
   },
   "file_extension": ".py",
   "mimetype": "text/x-python",
   "name": "python",
   "nbconvert_exporter": "python",
   "pygments_lexer": "ipython3",
   "version": "3.9.13"
  }
 },
 "nbformat": 4,
 "nbformat_minor": 5
}
